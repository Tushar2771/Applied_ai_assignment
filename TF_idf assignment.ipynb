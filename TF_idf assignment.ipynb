{
  "nbformat": 4,
  "nbformat_minor": 0,
  "metadata": {
    "colab": {
      "name": "Assignment_3_Instructions.ipynb",
      "provenance": [],
      "collapsed_sections": []
    },
    "kernelspec": {
      "display_name": "Python 3",
      "language": "python",
      "name": "python3"
    },
    "language_info": {
      "codemirror_mode": {
        "name": "ipython",
        "version": 3
      },
      "file_extension": ".py",
      "mimetype": "text/x-python",
      "name": "python",
      "nbconvert_exporter": "python",
      "pygments_lexer": "ipython3",
      "version": "3.7.1"
    }
  },
  "cells": [
    {
      "cell_type": "markdown",
      "metadata": {
        "id": "h9464I-uxLiw"
      },
      "source": [
        "# Assignment"
      ]
    },
    {
      "cell_type": "markdown",
      "metadata": {
        "id": "IvLvmewlxLix"
      },
      "source": [
        "<font face='georgia'>\n",
        "    \n",
        "   <h4><strong>What does tf-idf mean?</strong></h4>\n",
        "\n",
        "   <p>    \n",
        "Tf-idf stands for <em>term frequency-inverse document frequency</em>, and the tf-idf weight is a weight often used in information retrieval and text mining. This weight is a statistical measure used to evaluate how important a word is to a document in a collection or corpus. The importance increases proportionally to the number of times a word appears in the document but is offset by the frequency of the word in the corpus. Variations of the tf-idf weighting scheme are often used by search engines as a central tool in scoring and ranking a document's relevance given a user query.\n",
        "</p>\n",
        "    \n",
        "   <p>\n",
        "One of the simplest ranking functions is computed by summing the tf-idf for each query term; many more sophisticated ranking functions are variants of this simple model.\n",
        "</p>\n",
        "    \n",
        "   <p>\n",
        "Tf-idf can be successfully used for stop-words filtering in various subject fields including text summarization and classification.\n",
        "</p>\n",
        "    \n",
        "</font>"
      ]
    },
    {
      "cell_type": "markdown",
      "metadata": {
        "id": "4XLaGFUMxLiy"
      },
      "source": [
        "<font face='georgia'>\n",
        "    <h4><strong>How to Compute:</strong></h4>\n",
        "\n",
        "Typically, the tf-idf weight is composed by two terms: the first computes the normalized Term Frequency (TF), aka. the number of times a word appears in a document, divided by the total number of words in that document; the second term is the Inverse Document Frequency (IDF), computed as the logarithm of the number of the documents in the corpus divided by the number of documents where the specific term appears.\n",
        "\n",
        " <ul>\n",
        "    <li>\n",
        "<strong>TF:</strong> Term Frequency, which measures how frequently a term occurs in a document. Since every document is different in length, it is possible that a term would appear much more times in long documents than shorter ones. Thus, the term frequency is often divided by the document length (aka. the total number of terms in the document) as a way of normalization: <br>\n",
        "\n",
        "$TF(t) = \\frac{\\text{Number of times term t appears in a document}}{\\text{Total number of terms in the document}}.$\n",
        "</li>\n",
        "<li>\n",
        "<strong>IDF:</strong> Inverse Document Frequency, which measures how important a term is. While computing TF, all terms are considered equally important. However it is known that certain terms, such as \"is\", \"of\", and \"that\", may appear a lot of times but have little importance. Thus we need to weigh down the frequent terms while scale up the rare ones, by computing the following: <br>\n",
        "\n",
        "$IDF(t) = \\log_{e}\\frac{\\text{Total  number of documents}} {\\text{Number of documents with term t in it}}.$\n",
        "for numerical stabiltiy we will be changing this formula little bit\n",
        "$IDF(t) = \\log_{e}\\frac{\\text{Total  number of documents}} {\\text{Number of documents with term t in it}+1}.$\n",
        "</li>\n",
        "</ul>\n",
        "\n",
        "<br>\n",
        "<h4><strong>Example</strong></h4>\n",
        "<p>\n",
        "\n",
        "Consider a document containing 100 words wherein the word cat appears 3 times. The term frequency (i.e., tf) for cat is then (3 / 100) = 0.03. Now, assume we have 10 million documents and the word cat appears in one thousand of these. Then, the inverse document frequency (i.e., idf) is calculated as log(10,000,000 / 1,000) = 4. Thus, the Tf-idf weight is the product of these quantities: 0.03 * 4 = 0.12.\n",
        "</p>\n",
        "</font>"
      ]
    },
    {
      "cell_type": "markdown",
      "metadata": {
        "id": "dg2ooa4DxLiz"
      },
      "source": [
        "## Task-1"
      ]
    },
    {
      "cell_type": "markdown",
      "metadata": {
        "id": "TAcTjhO8xLiz"
      },
      "source": [
        "<font face='georgia'>\n",
        "    <h4><strong>1. Build a TFIDF Vectorizer & compare its results with Sklearn:</strong></h4>\n",
        "\n",
        "<ul>\n",
        "    <li> As a part of this task you will be implementing TFIDF vectorizer on a collection of text documents.</li>\n",
        "    <br>\n",
        "    <li> You should compare the results of your own implementation of TFIDF vectorizer with that of sklearns implemenation TFIDF vectorizer.</li>\n",
        "    <br>\n",
        "    <li> Sklearn does few more tweaks in the implementation of its version of TFIDF vectorizer, so to replicate the exact results you would need to add following things to your custom implementation of tfidf vectorizer:\n",
        "       <ol>\n",
        "        <li> Sklearn has its vocabulary generated from idf sroted in alphabetical order</li>\n",
        "        <li> Sklearn formula of idf is different from the standard textbook formula. Here the constant <strong>\"1\"</strong> is added to the numerator and denominator of the idf as if an extra document was seen containing every term in the collection exactly once, which prevents zero divisions.\n",
        "            \n",
        " $IDF(t) = 1+\\log_{e}\\frac{1\\text{ }+\\text{ Total  number of documents in collection}} {1+\\text{Number of documents with term t in it}}.$\n",
        "        </li>\n",
        "        <li> Sklearn applies L2-normalization on its output matrix.</li>\n",
        "        <li> The final output of sklearn tfidf vectorizer is a sparse matrix.</li>\n",
        "    </ol>\n",
        "    <br>\n",
        "    <li>Steps to approach this task:\n",
        "    <ol>\n",
        "        <li> You would have to write both fit and transform methods for your custom implementation of tfidf vectorizer.</li>\n",
        "        <li> Print out the alphabetically sorted voacb after you fit your data and check if its the same as that of the feature names from sklearn tfidf vectorizer. </li>\n",
        "        <li> Print out the idf values from your implementation and check if its the same as that of sklearns tfidf vectorizer idf values. </li>\n",
        "        <li> Once you get your voacb and idf values to be same as that of sklearns implementation of tfidf vectorizer, proceed to the below steps. </li>\n",
        "        <li> Make sure the output of your implementation is a sparse matrix. Before generating the final output, you need to normalize your sparse matrix using L2 normalization. You can refer to this link https://scikit-learn.org/stable/modules/generated/sklearn.preprocessing.normalize.html </li>\n",
        "        <li> After completing the above steps, print the output of your custom implementation and compare it with sklearns implementation of tfidf vectorizer.</li>\n",
        "        <li> To check the output of a single document in your collection of documents,  you can convert the sparse matrix related only to that document into dense matrix and print it.</li>\n",
        "        </ol>\n",
        "    </li>\n",
        "    <br>\n",
        "   </ul>\n",
        "\n",
        "  <p> <font color=\"#e60000\"><strong>Note-1: </strong></font> All the necessary outputs of sklearns tfidf vectorizer have been provided as reference in this notebook, you can compare your outputs as mentioned in the above steps, with these outputs.<br>\n",
        "   <font color=\"#e60000\"><strong>Note-2: </strong></font> The output of your custom implementation and that of sklearns implementation would match only with the collection of document strings provided to you as reference in this notebook. It would not match for strings that contain capital letters or punctuations, etc, because sklearn version of tfidf vectorizer deals with such strings in a different way. To know further details about how sklearn tfidf vectorizer works with such string, you can always refer to its official documentation.<br>\n",
        "   <font color=\"#e60000\"><strong>Note-3: </strong></font> During this task, it would be helpful for you to debug the code you write with print statements wherever necessary. But when you are finally submitting the assignment, make sure your code is readable and try not to print things which are not part of this task.\n",
        "    </p>"
      ]
    },
    {
      "cell_type": "markdown",
      "metadata": {
        "id": "OnV82tg1xLi0"
      },
      "source": [
        "### Corpus"
      ]
    },
    {
      "cell_type": "code",
      "metadata": {
        "id": "bUsYm9wjxLi1"
      },
      "source": [
        "## SkLearn# Collection of string documents\n",
        "\n",
        "corpus = [\n",
        "     'this is the first document',\n",
        "     'this document is the second document',\n",
        "     'and this is the third one',\n",
        "     'is this the first document',\n",
        "]"
      ],
      "execution_count": 1,
      "outputs": []
    },
    {
      "cell_type": "markdown",
      "metadata": {
        "id": "eLwmFZfKxLi4"
      },
      "source": [
        "### SkLearn Implementation"
      ]
    },
    {
      "cell_type": "code",
      "metadata": {
        "id": "Np4dfQOkxLi4"
      },
      "source": [
        "from sklearn.feature_extraction.text import TfidfVectorizer\n",
        "vectorizer = TfidfVectorizer()\n",
        "vectorizer.fit(corpus)\n",
        "skl_output = vectorizer.transform(corpus)"
      ],
      "execution_count": 34,
      "outputs": []
    },
    {
      "cell_type": "code",
      "metadata": {
        "id": "-7Om8YpYxLi6",
        "outputId": "e3865e96-89c3-4fdf-9355-d7e83af4ebbb",
        "colab": {
          "base_uri": "https://localhost:8080/"
        }
      },
      "source": [
        "# sklearn feature names, they are sorted in alphabetic order by default.\n",
        "\n",
        "print(vectorizer.get_feature_names())"
      ],
      "execution_count": 35,
      "outputs": [
        {
          "output_type": "stream",
          "name": "stdout",
          "text": [
            "['and', 'document', 'first', 'is', 'one', 'second', 'the', 'third', 'this']\n"
          ]
        },
        {
          "output_type": "stream",
          "name": "stderr",
          "text": [
            "/usr/local/lib/python3.7/dist-packages/sklearn/utils/deprecation.py:87: FutureWarning: Function get_feature_names is deprecated; get_feature_names is deprecated in 1.0 and will be removed in 1.2. Please use get_feature_names_out instead.\n",
            "  warnings.warn(msg, category=FutureWarning)\n"
          ]
        }
      ]
    },
    {
      "cell_type": "code",
      "metadata": {
        "id": "dTKplK96xLi-",
        "outputId": "33890542-2f13-4765-8af9-deb40a3730d9",
        "colab": {
          "base_uri": "https://localhost:8080/"
        }
      },
      "source": [
        "# Here we will print the sklearn tfidf vectorizer idf values after applying the fit method\n",
        "# After using the fit function on the corpus the vocab has 9 words in it, and each has its idf value.\n",
        "\n",
        "print(vectorizer.idf_)"
      ],
      "execution_count": 38,
      "outputs": [
        {
          "output_type": "stream",
          "name": "stdout",
          "text": [
            "[1.91629073 1.22314355 1.51082562 1.         1.91629073 1.91629073\n",
            " 1.         1.91629073 1.        ]\n"
          ]
        }
      ]
    },
    {
      "cell_type": "code",
      "metadata": {
        "id": "-CTiWHygxLjA",
        "outputId": "4594e090-0920-4b11-948c-2354d1988676",
        "colab": {
          "base_uri": "https://localhost:8080/"
        }
      },
      "source": [
        "# shape of sklearn tfidf vectorizer output after applying transform method.\n",
        "\n",
        "skl_output.shape"
      ],
      "execution_count": null,
      "outputs": [
        {
          "output_type": "execute_result",
          "data": {
            "text/plain": [
              "(4, 9)"
            ]
          },
          "metadata": {},
          "execution_count": 7
        }
      ]
    },
    {
      "cell_type": "code",
      "metadata": {
        "id": "bDKEpbA-xLjD",
        "outputId": "0ec20e4a-3f4e-4dad-e9df-35e753ee7360",
        "colab": {
          "base_uri": "https://localhost:8080/"
        }
      },
      "source": [
        "# sklearn tfidf values for first line of the above corpus.\n",
        "# Here the output is a sparse matrix\n",
        "\n",
        "print(skl_output[0])"
      ],
      "execution_count": null,
      "outputs": [
        {
          "output_type": "stream",
          "name": "stdout",
          "text": [
            "  (0, 8)\t0.38408524091481483\n",
            "  (0, 6)\t0.38408524091481483\n",
            "  (0, 3)\t0.38408524091481483\n",
            "  (0, 2)\t0.5802858236844359\n",
            "  (0, 1)\t0.46979138557992045\n"
          ]
        }
      ]
    },
    {
      "cell_type": "code",
      "source": [
        "print(final_output[0].toarray())"
      ],
      "metadata": {
        "colab": {
          "base_uri": "https://localhost:8080/"
        },
        "id": "M7dpPp2REQtQ",
        "outputId": "c6c6b845-96e2-4a43-df5c-c6fdd98c415c"
      },
      "execution_count": 105,
      "outputs": [
        {
          "output_type": "stream",
          "name": "stdout",
          "text": [
            "[[0.         0.46979139 0.58028582 0.38408524 0.         0.\n",
            "  0.38408524 0.         0.38408524]]\n"
          ]
        }
      ]
    },
    {
      "cell_type": "markdown",
      "metadata": {
        "id": "qfIwx5LzxLjI"
      },
      "source": [
        "### Your custom implementation"
      ]
    },
    {
      "cell_type": "code",
      "metadata": {
        "id": "HjuCcJwXxLjJ"
      },
      "source": [
        "# Write your code here.\n",
        "# Make sure its well documented and readble with appropriate comments.\n",
        "# Compare your results with the above sklearn tfidf vectorizer\n",
        "# You are not supposed to use any other library apart from the ones given below\n",
        "\n",
        "from collections import Counter\n",
        "from tqdm import tqdm\n",
        "from scipy.sparse import csr_matrix\n",
        "import math\n",
        "import operator\n",
        "from sklearn.preprocessing import normalize\n",
        "import numpy as np"
      ],
      "execution_count": 2,
      "outputs": []
    },
    {
      "cell_type": "code",
      "source": [
        "print(corpus)      #seeing the corpus"
      ],
      "metadata": {
        "colab": {
          "base_uri": "https://localhost:8080/"
        },
        "id": "9k1zg5Lvl2_S",
        "outputId": "f6e6533f-beeb-42b1-da57-02ed3c52e9f8"
      },
      "execution_count": 3,
      "outputs": [
        {
          "output_type": "stream",
          "name": "stdout",
          "text": [
            "['this is the first document', 'this document is the second document', 'and this is the third one', 'is this the first document']\n"
          ]
        }
      ]
    },
    {
      "cell_type": "code",
      "source": [
        "def IDF(corpus, unique_words):               #calculating IDF values \n",
        "    idf_dict = {}\n",
        "    N = len(corpus)\n",
        "    for word in unique_words:                 #creating count  to use in fromula\n",
        "        count = 0\n",
        "        for row in corpus:                  \n",
        "            if word in row.split(\" \"):         #checking if word of unique _word present in  corpus\n",
        "                count = count + 1               #if present then  increment ist value \n",
        "            idf_dict[word] = (math.log((1 + N)/(count + 1))) + 1         #idf values formula\n",
        "    return idf_dict\n",
        "\n",
        "#creating fit function\n",
        "def fit(corpus):\n",
        "    unique_words = []                            \n",
        "    for row in corpus:                   # iterating through list of the corpus\n",
        "        for word in row.split(\" \"):       #splitting word in corpus using split\n",
        "            if len(word) >= 2 and word not in unique_words:   # checking if length of the word is  greater than 2\n",
        "                unique_words.append(word)               #creating unique word _list\n",
        "    \n",
        "    \n",
        "    unique_words.sort()             # Sorting unique words\n",
        "         \n",
        "    \n",
        "    vocab = {j : i for i, j in enumerate(unique_words)}           #creating vocab(dict) with  i as index and j as word from unique word\n",
        "\n",
        "    idf_values_unique_words = IDF(corpus, unique_words)           #valculating idf \n",
        "    return vocab, idf_values_unique_words\n",
        "Vocab, idf_of_vocab = fit(corpus)                         \n",
        "\n"
      ],
      "metadata": {
        "id": "GReH68UmmBbq"
      },
      "execution_count": 97,
      "outputs": []
    },
    {
      "cell_type": "code",
      "source": [
        "print(list(Vocab.keys()))"
      ],
      "metadata": {
        "colab": {
          "base_uri": "https://localhost:8080/"
        },
        "id": "vv_bp59U7Z9S",
        "outputId": "02f4744c-bccc-48ae-9d00-dc4b05e1b4ed"
      },
      "execution_count": 95,
      "outputs": [
        {
          "output_type": "stream",
          "name": "stdout",
          "text": [
            "['and', 'document', 'first', 'is', 'one', 'second', 'the', 'third', 'this']\n"
          ]
        }
      ]
    },
    {
      "cell_type": "code",
      "source": [
        "print(list(idf_of_vocab.values()))"
      ],
      "metadata": {
        "colab": {
          "base_uri": "https://localhost:8080/"
        },
        "id": "XcYsAjmACW1c",
        "outputId": "5494e5c3-1522-4bbb-bb0d-abe0dadc32be"
      },
      "execution_count": 98,
      "outputs": [
        {
          "output_type": "stream",
          "name": "stdout",
          "text": [
            "[1.916290731874155, 1.2231435513142097, 1.5108256237659907, 1.0, 1.916290731874155, 1.916290731874155, 1.0, 1.916290731874155, 1.0]\n"
          ]
        }
      ]
    },
    {
      "cell_type": "code",
      "source": [
        "print(list(countDict.keys())) "
      ],
      "metadata": {
        "colab": {
          "base_uri": "https://localhost:8080/"
        },
        "id": "71kIKAwmkKiv",
        "outputId": "0a35fdf0-c19e-412f-d3ad-6404e3147f6f"
      },
      "execution_count": 50,
      "outputs": [
        {
          "output_type": "stream",
          "name": "stdout",
          "text": [
            "['this', 'is', 'the', 'first', 'document', 'second', 'and', 'third', 'one']\n"
          ]
        }
      ]
    },
    {
      "cell_type": "code",
      "source": [
        "print(list(idf_of_vocabulary.values()))"
      ],
      "metadata": {
        "colab": {
          "base_uri": "https://localhost:8080/"
        },
        "id": "-Z6Z58WykYM-",
        "outputId": "2cc608d8-92f2-45d5-fc92-8b3ae4fae508"
      },
      "execution_count": 100,
      "outputs": [
        {
          "output_type": "stream",
          "name": "stdout",
          "text": [
            "[1.916290731874155, 1.2231435513142097, 1.5108256237659907, 1.0, 1.916290731874155, 1.916290731874155, 1.0, 1.916290731874155, 1.0]\n"
          ]
        }
      ]
    },
    {
      "cell_type": "code",
      "source": [
        "#creating transform function\n",
        "\n",
        "def transform(dataset, vocab, idf_values):\n",
        "    sparse_matrix = csr_matrix((len(dataset), len(vocab)), dtype = np.float64)         #creating sparse matrix\n",
        "\n",
        "    for row  in range(0, len(dataset)):                          \n",
        "        number_of_words_in_row = Counter(dataset[row].split())                     \n",
        "        for word in dataset[row].split():\n",
        "            if word in list(vocab.keys()):\n",
        "                tf_idf_value = (number_of_words_in_row[word] / len(dataset[row].split())) * (idf_values[word])\n",
        "                sparse_matrix[row, vocab[word]] = tf_idf_value\n",
        "    output = normalize(sparse_matrix, norm = 'l2', axis = 1, copy = True, return_norm = False)\n",
        "    return output\n",
        "final_output = transform(corpus, Vocab, idf_of_vocab)\n",
        "print('normalise matrix:',final_output)\n",
        "print('==========================================================')\n",
        "\n",
        "print(final_output.shape) \n",
        "\n"
      ],
      "metadata": {
        "colab": {
          "base_uri": "https://localhost:8080/"
        },
        "id": "gwwWBWXv3Mpm",
        "outputId": "afb49d74-be3c-4b0e-e879-5e15a1ed34bf"
      },
      "execution_count": 104,
      "outputs": [
        {
          "output_type": "stream",
          "name": "stdout",
          "text": [
            "normalise matrix:   (0, 1)\t0.4697913855799205\n",
            "  (0, 2)\t0.580285823684436\n",
            "  (0, 3)\t0.3840852409148149\n",
            "  (0, 6)\t0.3840852409148149\n",
            "  (0, 8)\t0.3840852409148149\n",
            "  (1, 1)\t0.6876235979836937\n",
            "  (1, 3)\t0.2810886740337529\n",
            "  (1, 5)\t0.5386476208856762\n",
            "  (1, 6)\t0.2810886740337529\n",
            "  (1, 8)\t0.2810886740337529\n",
            "  (2, 0)\t0.511848512707169\n",
            "  (2, 3)\t0.267103787642168\n",
            "  (2, 4)\t0.511848512707169\n",
            "  (2, 6)\t0.267103787642168\n",
            "  (2, 7)\t0.511848512707169\n",
            "  (2, 8)\t0.267103787642168\n",
            "  (3, 1)\t0.4697913855799205\n",
            "  (3, 2)\t0.580285823684436\n",
            "  (3, 3)\t0.3840852409148149\n",
            "  (3, 6)\t0.3840852409148149\n",
            "  (3, 8)\t0.3840852409148149\n",
            "==========================================================\n",
            "(4, 9)\n"
          ]
        },
        {
          "output_type": "stream",
          "name": "stderr",
          "text": [
            "/usr/local/lib/python3.7/dist-packages/scipy/sparse/_index.py:84: SparseEfficiencyWarning: Changing the sparsity structure of a csr_matrix is expensive. lil_matrix is more efficient.\n",
            "  self._set_intXint(row, col, x.flat[0])\n"
          ]
        }
      ]
    },
    {
      "cell_type": "code",
      "source": [
        " #here we are converting the sparse output matrix to dense matrix and printing it.\n",
        "\n",
        "print(skl_output[0].toarray())"
      ],
      "metadata": {
        "colab": {
          "base_uri": "https://localhost:8080/"
        },
        "id": "wTpzx-SXEa3-",
        "outputId": "ab6730ad-3c90-4860-8ee9-c715ee5aac59"
      },
      "execution_count": 107,
      "outputs": [
        {
          "output_type": "stream",
          "name": "stdout",
          "text": [
            "[[0.         0.46979139 0.58028582 0.38408524 0.         0.\n",
            "  0.38408524 0.         0.38408524]]\n"
          ]
        }
      ]
    },
    {
      "cell_type": "markdown",
      "metadata": {
        "id": "MMxBmVZExLjK"
      },
      "source": [
        "## Task-2"
      ]
    },
    {
      "cell_type": "markdown",
      "metadata": {
        "id": "51j_OtqAxLjL"
      },
      "source": [
        "<font face='georgia'>\n",
        "    <h4><strong>2. Implement max features functionality:</strong></h4>\n",
        "\n",
        "<ul>\n",
        "    <li> As a part of this task you have to modify your fit and transform functions so that your vocab will contain only 50 terms with top idf scores.</li>\n",
        "    <br>\n",
        "    <li>This task is similar to your previous task, just that here your vocabulary is limited to only top 50 features names based on their idf values. Basically your output will have exactly 50 columns and the number of rows will depend on the number of documents you have in your corpus.</li>\n",
        "    <br>\n",
        "    <li>Here you will be give a pickle file, with file name <strong>cleaned_strings</strong>. You would have to load the corpus from this file and use it as input to your tfidf vectorizer.</li>\n",
        "    <br>\n",
        "    <li>Steps to approach this task:\n",
        "    <ol>\n",
        "        <li> You would have to write both fit and transform methods for your custom implementation of tfidf vectorizer, just like in the previous task. Additionally, here you have to limit the number of features generated to 50 as described above.</li>\n",
        "        <li> Now sort your vocab based in descending order of idf values and print out the words in the sorted voacb after you fit your data. Here you should be getting only 50 terms in your vocab. And make sure to print idf values for each term in your vocab. </li>\n",
        "        <li> Make sure the output of your implementation is a sparse matrix. Before generating the final output, you need to normalize your sparse matrix using L2 normalization. You can refer to this link https://scikit-learn.org/stable/modules/generated/sklearn.preprocessing.normalize.html </li>\n",
        "        <li> Now check the output of a single document in your collection of documents,  you can convert the sparse matrix related only to that document into dense matrix and print it. And this dense matrix should contain 1 row and 50 columns. </li>\n",
        "        </ol>\n",
        "    </li>\n",
        "    <br>\n",
        "   </ul>"
      ]
    },
    {
      "cell_type": "code",
      "metadata": {
        "id": "NHxPLlwNxLjL",
        "outputId": "8dec9879-9870-4079-a358-47ca2791f009",
        "colab": {
          "base_uri": "https://localhost:8080/"
        }
      },
      "source": [
        "# Below is the code to load the cleaned_strings pickle file provided\n",
        "# Here corpus is of list type\n",
        "\n",
        "import pickle\n",
        "with open('/content/cleaned_strings', 'rb') as f:\n",
        "    data = pickle.load(f)\n",
        "    \n",
        "# printing the length of the corpus loaded\n",
        "print(\"Number of documents in corpus = \",len(data))"
      ],
      "execution_count": 111,
      "outputs": [
        {
          "output_type": "stream",
          "name": "stdout",
          "text": [
            "Number of documents in corpus =  746\n"
          ]
        }
      ]
    },
    {
      "cell_type": "code",
      "metadata": {
        "id": "ZULfoOIdxLjQ"
      },
      "source": [
        "# Write your code here.\n",
        "# Try not to hardcode any values.\n",
        "# Make sure its well documented and readble with appropriate comments."
      ],
      "execution_count": 112,
      "outputs": []
    },
    {
      "cell_type": "code",
      "metadata": {
        "id": "1_DJnnR3xLjR"
      },
      "source": [
        "def IDF(corpus, unique_words):\n",
        "    idf_dict = {}\n",
        "    N = len(corpus)\n",
        "    for word in unique_words:\n",
        "        count = 0\n",
        "        for row in corpus:\n",
        "            if word in row.split(\" \"):\n",
        "                count = count + 1\n",
        "                idf_dict[word] = (math.log((1 + N)/(count + 1))) + 1\n",
        "    return idf_dict\n",
        "\n",
        "# Implementation of the fit() method\n",
        "def fit(corpus):\n",
        "    unique_words = []\n",
        "    for row in corpus:\n",
        "        for word in row.split(\" \"):\n",
        "            if len(word) >= 2 and word not in unique_words:\n",
        "                unique_words.append(word)\n",
        "    \n",
        "    idf_values_unique_words = IDF(corpus, unique_words)\n",
        "\n",
        "    top50_indices = np.argsort(list(idf_values_unique_words.values()))[::-1][:50]\n",
        "    \n",
        "    top50_idf_values = np.take(list(idf_values_unique_words.values()), top50_indices)\n",
        "    top50_idf_words = np.take(list(idf_values_unique_words.keys()), top50_indices)\n",
        "\n",
        "    wanted_idf_vocabulary = dict(zip(top50_idf_words, top50_idf_values))\n",
        "    wanted_vocabulary = {j: i for i, j in enumerate(list(wanted_idf_vocabulary.keys()))}\n",
        "    return wanted_vocabulary, wanted_idf_vocabulary\n",
        "\n",
        "wanted_vocabulary, wanted_idf_vocabulary = fit(data)"
      ],
      "execution_count": 113,
      "outputs": []
    },
    {
      "cell_type": "code",
      "source": [
        "print(wanted_idf_vocabulary)"
      ],
      "metadata": {
        "colab": {
          "base_uri": "https://localhost:8080/"
        },
        "id": "h89Y6u-3GAcp",
        "outputId": "66ca2251-18d8-4c4e-af58-4dfc41ff6baf"
      },
      "execution_count": 114,
      "outputs": [
        {
          "output_type": "stream",
          "name": "stdout",
          "text": [
            "{'exceptionally': 6.922918004572872, 'hatred': 6.922918004572872, 'curtain': 6.922918004572872, 'ive': 6.922918004572872, 'edition': 6.922918004572872, 'lid': 6.922918004572872, 'cant': 6.922918004572872, 'romantic': 6.922918004572872, 'junkyard': 6.922918004572872, 'laughed': 6.922918004572872, 'chosen': 6.922918004572872, 'tortured': 6.922918004572872, 'disgusting': 6.922918004572872, 'blatant': 6.922918004572872, 'propaganda': 6.922918004572872, 'admitted': 6.922918004572872, 'spot': 6.922918004572872, 'elsewhere': 6.922918004572872, 'school': 6.922918004572872, 'pile': 6.922918004572872, 'round': 6.922918004572872, 'enter': 6.922918004572872, 'regrettable': 6.922918004572872, 'thunderbirds': 6.922918004572872, 'motion': 6.922918004572872, 'needlessly': 6.922918004572872, 'repeats': 6.922918004572872, 'backed': 6.922918004572872, 'vehicles': 6.922918004572872, 'corn': 6.922918004572872, 'caught': 6.922918004572872, 'funniest': 6.922918004572872, 'hes': 6.922918004572872, 'yelps': 6.922918004572872, 'northern': 6.922918004572872, 'positive': 6.922918004572872, 'community': 6.922918004572872, 'represents': 6.922918004572872, 'unique': 6.922918004572872, 'vivian': 6.922918004572872, 'schilling': 6.922918004572872, 'theatres': 6.922918004572872, 'screamy': 6.922918004572872, 'masculine': 6.922918004572872, 'casted': 6.922918004572872, 'throwback': 6.922918004572872, 'student': 6.922918004572872, 'experiences': 6.922918004572872, 'abroad': 6.922918004572872, 'interacting': 6.922918004572872}\n"
          ]
        }
      ]
    },
    {
      "cell_type": "code",
      "source": [
        "# Implementation of transform() method\n",
        "\n",
        "def transform(dataset, vocabulary, idf_values):\n",
        "    sparse_matrix = csr_matrix((len(dataset), len(vocabulary)), dtype = np.float64)\n",
        "    for row  in range(0, len(dataset)):\n",
        "        number_of_words_in_row = Counter(dataset[row].split())\n",
        "        for word in dataset[row].split():\n",
        "            if word in list(vocabulary.keys()):\n",
        "                tf_idf_value = (number_of_words_in_row[word] / len(dataset[row].split())) * (idf_values[word])\n",
        "                sparse_matrix[row, vocabulary[word]] = tf_idf_value\n",
        "    output = normalize(sparse_matrix, norm = 'l2', axis = 1, copy = True, return_norm = False)\n",
        "    return output\n",
        "final_output = transform(data, wanted_vocabulary, wanted_idf_vocabulary)\n",
        "print(final_output.shape)\n",
        "print(\"Normalized Spare Matrix\\n\",final_output)"
      ],
      "metadata": {
        "colab": {
          "base_uri": "https://localhost:8080/"
        },
        "id": "IWgi2oFxGSjp",
        "outputId": "b8c0a291-10ab-49d6-be19-4fc2525f5550"
      },
      "execution_count": 118,
      "outputs": [
        {
          "output_type": "stream",
          "name": "stdout",
          "text": [
            "(746, 50)\n",
            "Normalized Spare Matrix\n",
            "   (205, 34)\t0.5\n",
            "  (205, 35)\t0.5\n",
            "  (205, 36)\t0.5\n",
            "  (205, 37)\t0.5\n",
            "  (209, 38)\t1.0\n",
            "  (210, 39)\t0.7071067811865476\n",
            "  (210, 40)\t0.7071067811865476\n",
            "  (211, 41)\t1.0\n",
            "  (213, 42)\t0.7071067811865476\n",
            "  (213, 43)\t0.7071067811865476\n",
            "  (215, 44)\t1.0\n",
            "  (216, 45)\t0.4472135954999579\n",
            "  (216, 46)\t0.4472135954999579\n",
            "  (216, 47)\t0.4472135954999579\n",
            "  (216, 48)\t0.4472135954999579\n",
            "  (216, 49)\t0.4472135954999579\n",
            "  (222, 2)\t0.3535533905932738\n",
            "  (222, 3)\t0.3535533905932738\n",
            "  (222, 4)\t0.3535533905932738\n",
            "  (222, 5)\t0.3535533905932738\n",
            "  (222, 30)\t0.3535533905932738\n",
            "  (222, 31)\t0.3535533905932738\n",
            "  (222, 32)\t0.3535533905932738\n",
            "  (222, 33)\t0.3535533905932738\n",
            "  (223, 6)\t0.37796447300922725\n",
            "  (223, 7)\t0.37796447300922725\n",
            "  (223, 8)\t0.7559289460184545\n",
            "  (223, 9)\t0.37796447300922725\n",
            "  (224, 10)\t0.4472135954999579\n",
            "  (224, 11)\t0.4472135954999579\n",
            "  (224, 12)\t0.4472135954999579\n",
            "  (224, 13)\t0.4472135954999579\n",
            "  (224, 14)\t0.4472135954999579\n",
            "  (225, 1)\t0.5773502691896257\n",
            "  (225, 15)\t0.5773502691896257\n",
            "  (225, 17)\t0.5773502691896257\n",
            "  (226, 18)\t0.5773502691896257\n",
            "  (226, 19)\t0.5773502691896257\n",
            "  (226, 20)\t0.5773502691896257\n",
            "  (227, 21)\t1.0\n",
            "  (228, 23)\t1.0\n",
            "  (229, 24)\t0.408248290463863\n",
            "  (229, 25)\t0.408248290463863\n",
            "  (229, 26)\t0.408248290463863\n",
            "  (229, 27)\t0.408248290463863\n",
            "  (229, 28)\t0.408248290463863\n",
            "  (229, 29)\t0.408248290463863\n",
            "  (378, 16)\t1.0\n",
            "  (742, 22)\t1.0\n",
            "  (744, 0)\t1.0\n"
          ]
        },
        {
          "output_type": "stream",
          "name": "stderr",
          "text": [
            "/usr/local/lib/python3.7/dist-packages/scipy/sparse/_index.py:84: SparseEfficiencyWarning: Changing the sparsity structure of a csr_matrix is expensive. lil_matrix is more efficient.\n",
            "  self._set_intXint(row, col, x.flat[0])\n"
          ]
        }
      ]
    }
  ]
}