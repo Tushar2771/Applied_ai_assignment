{
  "cells": [
    {
      "cell_type": "markdown",
      "metadata": {
        "id": "l0ZzOlyxB-kf"
      },
      "source": [
        "<h1>Python: without numpy or sklearn </h1>"
      ]
    },
    {
      "cell_type": "markdown",
      "metadata": {
        "id": "C0xO8JV9B-ki"
      },
      "source": [
        "<h3> Q1: Given two matrices please print the product of those two matrices </h3>\n",
        "<pre>\n",
        "\n",
        "Ex 1: A   = [[1 3 4]\n",
        "             [2 5 7]\n",
        "             [5 9 6]]\n",
        "      B   = [[1 0 0]\n",
        "             [0 1 0]\n",
        "             [0 0 1]]\n",
        "      A*B = [[1 3 4]\n",
        "             [2 5 7]\n",
        "             [5 9 6]]\n",
        "\n",
        "     \n",
        "Ex 2: A   = [[1 2]\n",
        "             [3 4]]\n",
        "      B   = [[1 2 3 4 5]\n",
        "             [5 6 7 8 9]]\n",
        "      A*B = [[11 14 17 20 23]\n",
        "             [23 30 37 44 51]]\n",
        "             \n",
        "Ex 3: A   = [[1 2]\n",
        "             [3 4]]\n",
        "      B   = [[1 4]\n",
        "             [5 6]\n",
        "             [7 8]\n",
        "             [9 6]]\n",
        "      A*B =Not possible\n",
        "</pre>"
      ]
    },
    {
      "cell_type": "code",
      "execution_count": 232,
      "metadata": {
        "colab": {
          "base_uri": "https://localhost:8080/"
        },
        "id": "rnssAfpgB-kj",
        "outputId": "fe321d27-bde8-4e9f-97f6-06b4ed90d076"
      },
      "outputs": [
        {
          "output_type": "stream",
          "name": "stdout",
          "text": [
            "Result: \n"
          ]
        },
        {
          "output_type": "execute_result",
          "data": {
            "text/plain": [
              "[[11, 14, 17, 20, 23], [23, 30, 37, 44, 51]]"
            ]
          },
          "metadata": {},
          "execution_count": 232
        }
      ],
      "source": [
        "#Creating function to Multiply any two matrices\n",
        "\n",
        "A   = [[1, 2],\n",
        "      [3, 4]]\n",
        "B   = [[1, 2, 3, 4, 5],\n",
        "      [5 ,6 ,7, 8 ,9]]\n",
        "\n",
        "\n",
        "\n",
        "\n",
        "\n",
        "\n",
        "\n",
        "\n",
        "m= len(A)\n",
        "n=len(B[0])\n",
        "\n",
        "\n",
        "\n",
        "def Multiply(A,B):\n",
        "  if len(A[0]) == len(B) :     #checking if our matices are satisfying condition for dot product\n",
        "    mul_mat = [ [ 0 for i in range(n) ] for j in range(m) ]   #Creating  empty matrix of the size of our row of matrix A and column of matrix B usin list comprehension \n",
        "    \n",
        "    for i in range(len(A)):      #to select row  from matrix A\n",
        "        \n",
        "      for j in range(len(B[0])):   #to select  columns from matrix B\n",
        "            \n",
        "        for k in range(len(B)):       #to select rows from matrix A        \n",
        "          mul_mat[i][j] += A[i][k] * B[k][j]      #Multiplying components from both matrices A And B and adding in to variable mul_mat\n",
        "    return mul_mat\n",
        "    \n",
        "  else:\n",
        "    print(' Given two matrices multiplication is not possible') #printing clause that our matrices can not be multiply\n",
        "\n",
        "\n",
        "\n",
        "\n",
        "print(\"Result: \")\n",
        "Multiply(A,B)\n",
        "    \n",
        "    \n"
      ]
    },
    {
      "cell_type": "markdown",
      "metadata": {
        "id": "at4VwLggB-kn"
      },
      "source": [
        "<h3> Q2: Proportional Sampling - Select a number randomly with probability proportional to its magnitude from the given array of n elements</h3>\n",
        "\n",
        "Consider an experiment, selecting an element from the list A randomly with probability proportional to its magnitude.\n",
        "assume we are doing the same experiment for 100 times with replacement, in each experiment you will print a number that is selected randomly from A.\n",
        "\n",
        "<pre>\n",
        "Ex 1: A = [0 5 27 6 13 28 100 45 10 79]\n",
        "let f(x) denote the number of times x getting selected in 100 experiments.\n",
        "f(100) > f(79) > f(45) > f(28) > f(27) > f(13) > f(10) > f(6) > f(5) > f(0)\n",
        "</pre>"
      ]
    },
    {
      "cell_type": "code",
      "execution_count": 234,
      "metadata": {
        "colab": {
          "base_uri": "https://localhost:8080/"
        },
        "id": "B6S2dpBhB-kn",
        "outputId": "8735025b-89b3-4dd9-9458-6698ad764805"
      },
      "outputs": [
        {
          "output_type": "stream",
          "name": "stdout",
          "text": [
            "{27: 9, 45: 13, 100: 41, 28: 9, 6: 3, 79: 16, 13: 6, 10: 2}\n"
          ]
        }
      ],
      "source": [
        "import random\n",
        "\n",
        "\n",
        "A = [0,5,27,6,13,28,100,45,10,79]\n",
        "\n",
        "\n",
        "def pick_a_number_from_list(A):            \n",
        "    sum=0\n",
        "    cummulative=[]                            #cummmulative sum list\n",
        "    for i in range(len(A)):\n",
        "        sum = sum + A[i]                   #creating cummulative sum\n",
        "        cummulative.append(sum)            #adding sum into cum_sum\n",
        "    \n",
        "     \n",
        "    R = int(random.uniform(0,sum))    #generating randoms  from 0 to sum\n",
        "    \n",
        "\n",
        "    for index in range(len(cummulative)):            #creating index for the cum_sum\n",
        "\n",
        "      if(R>=cummulative[index] and R<cummulative[index+1]):   #  checking for range r>=cum_sum[index] and r<cum_sum[index+1]\n",
        "\n",
        "        return A[index+1]                              # using the number A[index+1]\n",
        "    \n",
        "   \n",
        "\n",
        "def sampling_based_on_magnitued():\n",
        "    \n",
        "    num = dict()                                        #creating dict \n",
        "\n",
        "    for i in range(1,100):                             #sampling based on magnitude\n",
        "        number = pick_a_number_from_list(A)            #picking number from list A\n",
        "        if number not in num:                          \n",
        "            num[number] = 1\n",
        "        else:\n",
        "            num[number]+=1                            #adding 1 each time given number from A appears                        \n",
        "    print(num)\n",
        "\n",
        "sampling_based_on_magnitued()\n"
      ]
    },
    {
      "cell_type": "markdown",
      "metadata": {
        "id": "D1xQy2WWB-kq"
      },
      "source": [
        "<h3> Q3: Replace the digits in the string with #</h3>\n",
        "\n",
        "consider a string that will have digits in that, we need to remove all the not digits and replace the digits with #\n",
        "<pre>\n",
        "Ex 1: A = 234                Output: ###\n",
        "Ex 2: A = a2b3c4             Output: ###\n",
        "Ex 3: A = abc                Output:   (empty string)\n",
        "Ex 5: A = #2a$#b%c%561#      Output: ####\n",
        "</pre>"
      ]
    },
    {
      "cell_type": "code",
      "execution_count": 235,
      "metadata": {
        "colab": {
          "base_uri": "https://localhost:8080/"
        },
        "id": "fxczi2jzB-kr",
        "outputId": "55bc3a1a-d862-45c7-cb8b-39219510ff8a"
      },
      "outputs": [
        {
          "output_type": "stream",
          "name": "stdout",
          "text": [
            "####\n"
          ]
        }
      ],
      "source": [
        "import re\n",
        "A = \"#2a$#b%c%561# \"\n",
        "k='#' \n",
        "\n",
        "def Digi_string(A): \n",
        "  \n",
        "  A = filter(str.isdigit, A)        #filtering out digit from string\n",
        "  A= \"\".join(A)                     #assign digit to A\n",
        "  if A.isdigit():                   #if it is digit replace with K=# other wise print 'empty string'\n",
        "    res = re.sub(r'\\d',k, A)\n",
        "    print(res)\n",
        "  else:\n",
        "    print('(empty string)')\n",
        "  \n",
        "    \n",
        "\n",
        "Digi_string(A) "
      ]
    },
    {
      "cell_type": "markdown",
      "metadata": {
        "id": "j7h0Ywg7B-kw"
      },
      "source": [
        "<h3> Q4: Students marks dashboard</h3>\n",
        "\n",
        "consider the marks list of class students given two lists <br>\n",
        "Students = ['student1','student2','student3','student4','student5','student6','student7','student8','student9','student10'] <br>\n",
        "Marks = [45, 78, 12, 14, 48, 43, 45, 98, 22, 80] <br>\n",
        "from the above two lists the Student[0] got Marks[0],  Student[1] got Marks[1] and so on <br><br>\n",
        "your task is to print the name of students\n",
        "<strong>a. Who got top 5 ranks, in the descending order of marks</strong> <br>\n",
        "<strong>b. Who got least 5 ranks, in the increasing order of marks</strong><br>\n",
        "<strong>d. Who got marks between  &gt;25th percentile &lt;75th percentile, in the increasing order of marks</strong>\n",
        "\n",
        "<pre>\n",
        "Ex 1: \n",
        "Students=['student1','student2','student3','student4','student5','student6','student7','student8','student9','student10'] \n",
        "Marks = [45, 78, 12, 14, 48, 43, 47, 98, 22, 80]\n",
        "a. \n",
        "student8  98\n",
        "student10 80\n",
        "student2  78\n",
        "student5  48\n",
        "student7  47\n",
        "b.\n",
        "student3 12\n",
        "student4 14\n",
        "student9 22\n",
        "student6 43\n",
        "student1 45\n",
        "c.\n",
        "student9 22\n",
        "student6 43\n",
        "student1 45\n",
        "student7 47\n",
        "student5 48\n",
        "</pre>"
      ]
    },
    {
      "cell_type": "code",
      "execution_count": 236,
      "metadata": {
        "colab": {
          "base_uri": "https://localhost:8080/"
        },
        "id": "cxPJgItsB-kx",
        "outputId": "7ed17886-1c8f-4f9e-b6bb-622265ad2ce6"
      },
      "outputs": [
        {
          "output_type": "stream",
          "name": "stdout",
          "text": [
            "a: [('student8', 98), ('student10', 80), ('student2', 78), ('student5', 48), ('student7', 47)]\n",
            "b: [('student3', 12), ('student4', 14), ('student9', 22), ('student6', 43), ('student1', 45)]\n",
            "c: [('student9', 22), ('student6', 43), ('student1', 45), ('student7', 47), ('student5', 48)]\n"
          ]
        }
      ],
      "source": [
        "import math\n",
        "from typing import ValuesView\n",
        "Students=['student1','student2','student3','student4','student5','student6','student7','student8','student9','student10'] \n",
        "Marks = [45, 78, 12, 14, 48, 43, 47, 98, 22, 80]\n",
        "Report_card = list(zip(Students, Marks))     #converting both list into one\n",
        "\n",
        "# sort the list of tuples on the Report_card, so selecting the second element (index 1) of the tuple  \n",
        "Report_card.sort(key = lambda e: e[1])\n",
        "#print(Report_card)\n",
        "\n",
        "def display_dash_board(Report_card):\n",
        "   top_5 = Report_card[5:]                  #Slicing top5 rank  student in increasing order\n",
        "\n",
        "   top_5_students=top_5[::-1]          #reversing top 5 rank student in descending order \n",
        "   print('a:',top_5_students)\n",
        "   \n",
        "\n",
        "   least_5_students=Report_card[:5]\n",
        "   print('b:',least_5_students)       #least_5_student in increasing order\n",
        "\n",
        "\n",
        "\n",
        "   twenty_5th = math.floor(len(Report_card) // 4)\n",
        "   seventy_5th = math.floor(3 * len(Report_card) // 4)\n",
        "  \n",
        "   between = Report_card[twenty_5th:seventy_5th]\n",
        "   print('c:',between)\n",
        "display_dash_board(Report_card)"
      ]
    },
    {
      "cell_type": "markdown",
      "metadata": {
        "id": "qha0OhQHB-k1"
      },
      "source": [
        "<h3> Q5: Find the closest points</h3>\n",
        "\n",
        "Consider you have given n data points in the form of list of tuples like S=[(x1,y1),(x2,y2),(x3,y3),(x4,y4),(x5,y5),..,(xn,yn)] and a point P=(p,q) <br> Your task is to find 5 closest points(based on cosine distance) in S from P\n",
        "<br>Cosine distance between two points (x,y) and (p,q) is defind as $cos^{-1}(\\frac{(x\\cdot p+y\\cdot q)}{\\sqrt(x^2+y^2)\\cdot\\sqrt(p^2+q^2)})$\n",
        "<pre>\n",
        "Ex:\n",
        "\n",
        "S= [(1,2),(3,4),(-1,1),(6,-7),(0, 6),(-5,-8),(-1,-1),(6,0),(1,-1)]\n",
        "P= (3,-4)\n",
        "\n",
        "<img src='https://i.imgur.com/vyZZQGu.png' width=400>\n",
        "\n",
        "Output:\n",
        "(6,-7)\n",
        "(1,-1)\n",
        "(6,0)\n",
        "(-5,-8)\n",
        "(-1,-1)\n",
        "</pre>\n",
        " Hint - If you write the formula correctly you'll get the distance between points (6,-7) and (3,-4) = 0.065"
      ]
    },
    {
      "cell_type": "code",
      "execution_count": 237,
      "metadata": {
        "id": "wA5I1g-2B-k2",
        "colab": {
          "base_uri": "https://localhost:8080/"
        },
        "outputId": "f2cb17a0-055d-46b0-c63e-72d6abb9c0ca"
      },
      "outputs": [
        {
          "output_type": "stream",
          "name": "stdout",
          "text": [
            "(6, -7)\n",
            "(1, -1)\n",
            "(6, 0)\n",
            "(-5, -8)\n",
            "(-1, -1)\n"
          ]
        }
      ],
      "source": [
        "import math\n",
        "\n",
        "# write your python code here\n",
        "# you can take the above example as sample input for your program to test\n",
        "# it should work for any general input try not to hard code for only given input examples\n",
        "# you can free to change all these codes/structure\n",
        "\n",
        "\n",
        "# here S is list of tuples and P is a tuple ot len=2\n",
        "\n",
        "S= [(1,2),(3,4),(-1,1),(6,-7),(0, 6),(-5,-8),(-1,-1),(6,0),(1,-1)]\n",
        "P= (3,-4)\n",
        "\n",
        "\n",
        "\n",
        "cosine_dist=[]\n",
        "for i,j in S:          #iterating trhough S \n",
        "  num = (i*P[0])+(j*P[1])                   #seprating numerator according to formula   \n",
        "  deno = math.sqrt(i**2+j**2) * math.sqrt(P[0]**2+P[1]**2)     #seprating denominator according to formula\n",
        "\n",
        "  cosine_dist.append(math.acos(num/deno))              #using math.acos to find cosine inverse \n",
        "\n",
        "#print(cosine_dist)\n",
        "x= list(zip(S,cosine_dist))\n",
        "x.sort(key=lambda e: e[1])                #sorting the S,cosine_dist     in increasing order\n",
        "x=x[:5]                                   #slicing through x for 5 closest point\n",
        "for i,j in x:\n",
        "  print(i)                               #printing closest point\n",
        "\n",
        "\n",
        "   \n",
        "\n",
        "\n",
        "\n"
      ]
    },
    {
      "cell_type": "markdown",
      "metadata": {
        "id": "-g11jeAiB-k5"
      },
      "source": [
        "<h3> Q6: Find Which line separates oranges and apples</h3>\n",
        "consider you have given two set of data points in the form of list of tuples like \n",
        "<pre>\n",
        "Red =[(R11,R12),(R21,R22),(R31,R32),(R41,R42),(R51,R52),..,(Rn1,Rn2)]\n",
        "Blue=[(B11,B12),(B21,B22),(B31,B32),(B41,B42),(B51,B52),..,(Bm1,Bm2)]\n",
        "</pre>\n",
        "and set of line equations(in the string formate, i.e list of strings)\n",
        "<pre>\n",
        "Lines = [a1x+b1y+c1,a2x+b2y+c2,a3x+b3y+c3,a4x+b4y+c4,..,K lines]\n",
        "Note: you need to string parsing here and get the coefficients of x,y and intercept\n",
        "</pre>\n",
        "your task is to for each line that is given print \"YES\"/\"NO\", you will print yes, if all the red points are one side of the line and blue points are other side of the line, otherwise no\n",
        "<pre>\n",
        "Ex:\n",
        "Red= [(1,1),(2,1),(4,2),(2,4), (-1,4)]\n",
        "Blue= [(-2,-1),(-1,-2),(-3,-2),(-3,-1),(1,-3)]\n",
        "Lines=[\"1x+1y+0\",\"1x-1y+0\",\"1x+0y-3\",\"0x+1y-0.5\"]\n",
        "<img src='https://i.imgur.com/mSnQW5K.png' width=400>\n",
        "\n",
        "Output:\n",
        "YES\n",
        "NO\n",
        "NO\n",
        "YES\n",
        "</pre>"
      ]
    },
    {
      "cell_type": "code",
      "execution_count": 238,
      "metadata": {
        "id": "eRxExaTRB-k6",
        "colab": {
          "base_uri": "https://localhost:8080/"
        },
        "outputId": "e56e986c-7367-4a64-ff5d-15a2839a7195"
      },
      "outputs": [
        {
          "output_type": "stream",
          "name": "stdout",
          "text": [
            "YES\n",
            "NO\n",
            "NO\n",
            "YES\n"
          ]
        }
      ],
      "source": [
        "import math\n",
        "\n",
        "\n",
        "# write your python code here\n",
        "# you can take the above example as sample input for your program to test\n",
        "# it should work for any general input try not to hard code for only given input strings\n",
        "    \n",
        "# you can free to change all these codes/structure\n",
        "\n",
        "\n",
        "def seprated_point(Red,Blue,line): \n",
        "    \n",
        "    for i,j in enumerate(Red):              \n",
        "      ele_1 = j[0]                          #assigning value from list of tupels                             \n",
        "      ele_2 = j[1]\n",
        "      m = eval(line.replace('x' , '*%s' % j[0]).replace('y', '*%s' % j[1]))      #using eval( )function to replace value in equation\n",
        "      \n",
        "      \n",
        "    \n",
        "    \n",
        "    for o,p in enumerate(Blue):\n",
        "        ele_3 = p[0]\n",
        "        ele_4 = p[1]\n",
        "        n= eval(line.replace('x' , '*%s' % ele_3).replace('y', '*%s' % ele_4))\n",
        "        \n",
        "\n",
        "    if m >0 and  n<0:\n",
        "      print('YES')                     \n",
        "      if m<0 and n>0 :\n",
        "         print('YES')\n",
        "    else:\n",
        "      print('NO')   \n",
        "    \n",
        "\n",
        "\n",
        "Red= [(1,1),(2,1),(4,2),(2,4), (-1,4)]\n",
        "Blue= [(-2,-1),(-1,-2),(-3,-2),(-3,-1),(1,-3)]\n",
        "Lines=[\"1x+1y+0\",\"1x-1y+0\",\"1x+0y-3\",\"0x+1y-0.5\"]\n",
        "\n",
        "for k in Lines:\n",
        "  answer = seprated_point(Red,Blue,k) \n",
        "                            \n",
        "  "
      ]
    },
    {
      "cell_type": "code",
      "source": [
        ""
      ],
      "metadata": {
        "id": "kkhiZbm6pRYG"
      },
      "execution_count": null,
      "outputs": []
    },
    {
      "cell_type": "markdown",
      "metadata": {
        "id": "9OBpURbNB-k9"
      },
      "source": [
        "<h3> Q7: Filling the missing values in the specified formate</h3>\n",
        "You will be given a string with digits and '\\_'(missing value) symbols you have to replace the '\\_' symbols as explained \n",
        "<pre>\n",
        "Ex 1: _, _, _, 24 ==> 24/4, 24/4, 24/4, 24/4 i.e we. have distributed the 24 equally to all 4 places <br>\n",
        "Ex 2: 40, _, _, _, 60 ==> (60+40)/5,(60+40)/5,(60+40)/5,(60+40)/5,(60+40)/5 ==> 20, 20, 20, 20, 20 i.e. the sum of (60+40) is distributed qually to all 5 places<br>\n",
        "Ex 3: 80, _, _, _, _  ==> 80/5,80/5,80/5,80/5,80/5 ==> 16, 16, 16, 16, 16 i.e. the 80 is distributed qually to all 5 missing values that are right to it<br>\n",
        "Ex 4: _, _, 30, _, _, _, 50, _, _  \n",
        "==> we will fill the missing values from left to right \n",
        "    a. first we will distribute the 30 to left two missing values (10, 10, 10, _, _, _, 50, _, _)\n",
        "    b. now distribute the sum (10+50) missing values in between (10, 10, 12, 12, 12, 12, 12, _, _) \n",
        "    c. now we will distribute 12 to right side missing values (10, 10, 12, 12, 12, 12, 4, 4, 4)\n",
        "</pre>\n",
        "for a given string with comma seprate values, which will have both missing values numbers like ex: \"_, _, x, _, _, _\"\n",
        "you need fill the missing values\n",
        "\n",
        "Q: your program reads a string like ex: \"_, _, x, _, _, _\" and returns the filled sequence\n",
        "\n",
        "Ex: \n",
        "<pre>\n",
        "Input1: \"_,_,_,24\"\n",
        "Output1: 6,6,6,6\n",
        "\n",
        "Input2: \"40,_,_,_,60\"\n",
        "Output2: 20,20,20,20,20\n",
        "\n",
        "Input3: \"80,_,_,_,_\"\n",
        "Output3: 16,16,16,16,16\n",
        "\n",
        "Input4: \"_,_,30,_,_,_,50,_,_\"\n",
        "Output4: 10,10,12,12,12,12,4,4,4\n",
        "\n",
        "</pre>\n",
        "\n"
      ]
    },
    {
      "cell_type": "code",
      "execution_count": 239,
      "metadata": {
        "id": "nZmpzHs_B-k-",
        "colab": {
          "base_uri": "https://localhost:8080/"
        },
        "outputId": "1e672090-973c-496a-c9d2-490af78860d8"
      },
      "outputs": [
        {
          "output_type": "execute_result",
          "data": {
            "text/plain": [
              "['10.0', '10.0', '12.0', '12.0', '12.0', '12.0', '4.0', '4.0', '4.0']"
            ]
          },
          "metadata": {},
          "execution_count": 239
        }
      ],
      "source": [
        "# write your python code here\n",
        "# you can take the above example as sample input for your program to test\n",
        "# it should work for any general input try not to hard code for only given input strings\n",
        "#run your code in the function for each of the inputs mentioned above and make sure that you get the same results\n",
        "\n",
        "def replace_value(s):\n",
        "    number_of_digit_in_string = 0\n",
        "    split = s.split(',')\n",
        "    count = 0\n",
        "    middle_index = 0\n",
        "    \n",
        "    #left_values\n",
        "    for i in range(len(split)):\n",
        "        if split[i] == '_':\n",
        "            count = count + 1  #counting number of blanks for left\n",
        "        else:\n",
        "            for j in range(i + 1):\n",
        "                split[j] = str((float(split[i]) / (count + 1)))               #splitting the values with eaqual number of empty index\n",
        "              \n",
        "            middle_index = i\n",
        "            middle_value = float(split[i])                                   #storing value for further addition\n",
        "            break\n",
        "    \n",
        "    if middle_index+1 >= len(split):\n",
        "      return split\n",
        "    \n",
        "\n",
        "    #middle_values\n",
        "    divide = 1                                                       #creating divide variable and flag variable\n",
        "    flag = 0\n",
        "    for k in range(middle_index + 1, len(split)):                     #looping through middle part of string           \n",
        "        if split[k] != '_':\n",
        "            divide = (k + 1 - middle_index)                            #counting number of index to divide equally\n",
        "            flag = k                                      #storing flag for flag value which is going to used in additon with left value\n",
        "            break\n",
        "    flag_value = float(split[flag])\n",
        "    for m in range(middle_index, flag + 1):\n",
        "        split[m] = str((middle_value+flag_value) / divide)          #assigning equally the divided value til flag =1 index\n",
        "\n",
        "    # end value\n",
        "    end_value = float(split[flag])             \n",
        "    for n in range(flag, len(split)):\n",
        "        split[n] = str(end_value / (len(split) - flag))                  #splitting  value equally over remaining index\n",
        "\n",
        "    return split                  \n",
        "\n",
        "s =\"_,_,30,_,_,_,50,_,_\"\n",
        "\n",
        "replace_value(s)"
      ]
    },
    {
      "cell_type": "markdown",
      "metadata": {
        "id": "RBz4pzlfB-lB"
      },
      "source": [
        "<h3> Q8: Filling the missing values in the specified formate</h3>\n",
        "You will be given a list of lists, each sublist will be of length 2 i.e. [[x,y],[p,q],[l,m]..[r,s]]\n",
        "consider its like a martrix of n rows and two columns\n",
        "1. the first column F will contain only 5 uniques values (F1, F2, F3, F4, F5)\n",
        "2. the second column S will contain only 3 uniques values (S1, S2, S3)\n",
        "<pre>\n",
        "your task is to find\n",
        "a. Probability of P(F=F1|S==S1), P(F=F1|S==S2), P(F=F1|S==S3)\n",
        "b. Probability of P(F=F2|S==S1), P(F=F2|S==S2), P(F=F2|S==S3)\n",
        "c. Probability of P(F=F3|S==S1), P(F=F3|S==S2), P(F=F3|S==S3)\n",
        "d. Probability of P(F=F4|S==S1), P(F=F4|S==S2), P(F=F4|S==S3)\n",
        "e. Probability of P(F=F5|S==S1), P(F=F5|S==S2), P(F=F5|S==S3)\n",
        "</pre>\n",
        "Ex:\n",
        "\n",
        "<pre>\n",
        "[[F1,S1],[F2,S2],[F3,S3],[F1,S2],[F2,S3],[F3,S2],[F2,S1],[F4,S1],[F4,S3],[F5,S1]]\n",
        "\n",
        "a. P(F=F1|S==S1)=1/4, P(F=F1|S==S2)=1/3, P(F=F1|S==S3)=0/3\n",
        "b. P(F=F2|S==S1)=1/4, P(F=F2|S==S2)=1/3, P(F=F2|S==S3)=1/3\n",
        "c. P(F=F3|S==S1)=0/4, P(F=F3|S==S2)=1/3, P(F=F3|S==S3)=1/3\n",
        "d. P(F=F4|S==S1)=1/4, P(F=F4|S==S2)=0/3, P(F=F4|S==S3)=1/3\n",
        "e. P(F=F5|S==S1)=1/4, P(F=F5|S==S2)=0/3, P(F=F5|S==S3)=0/3\n",
        "</pre>\n",
        "\n",
        "\n"
      ]
    },
    {
      "cell_type": "code",
      "execution_count": 240,
      "metadata": {
        "id": "e-1giz1MB-lC",
        "colab": {
          "base_uri": "https://localhost:8080/"
        },
        "outputId": "198b998c-6612-4587-d08e-083a7e5509ce"
      },
      "outputs": [
        {
          "output_type": "stream",
          "name": "stdout",
          "text": [
            "P(F = F1 | S == S1) = 1/4\n",
            "P(F = F1 | S == S2) = 1/3\n",
            "P(F = F1 | S == S3) = 0/3\n",
            "P(F = F2 | S == S1) = 1/4\n",
            "P(F = F2 | S == S2) = 1/3\n",
            "P(F = F2 | S == S3) = 1/3\n",
            "P(F = F3 | S == S1) = 0/4\n",
            "P(F = F3 | S == S2) = 1/3\n",
            "P(F = F3 | S == S3) = 1/3\n",
            "P(F = F4 | S == S1) = 1/4\n",
            "P(F = F4 | S == S2) = 0/3\n",
            "P(F = F4 | S == S3) = 1/3\n",
            "P(F = F5 | S == S1) = 1/4\n",
            "P(F = F5 | S == S2) = 0/3\n",
            "P(F = F5 | S == S3) = 0/3\n"
          ]
        }
      ],
      "source": [
        "# write your python code here\n",
        "# you can take the above example as sample input for your program to test\n",
        "# it should work for any general input try not to hard code for only given input strings. Do not write 15 print statements.\n",
        "# you can use nested loops or dictionaries to write your code\n",
        "\n",
        "\n",
        "# you can free to change all these codes/structure\n",
        "def compute_conditional_probabilites(F, S):\n",
        "    # your code\n",
        "    No_F_in_List = 0\n",
        "    No_S_in_list = 0\n",
        "    for i in range(len(A)):\n",
        "        if(A[i][1] == S):\n",
        "            No_S_in_list = No_S_in_list + 1                     #counting number of s in list\n",
        "            if(A[i][0] == F):\n",
        "                No_F_in_List = No_F_in_List + 1                 #no_f present in when given s \n",
        "    print('P(F = {} | S == {}) = {}/{}'.format(F, S, str(No_F_in_List), str(No_S_in_list)))\n",
        "    # print the output as per the instructions\n",
        "\n",
        "A = [['F1','S1'],['F2','S2'],['F3','S3'],['F1','S2'],['F2','S3'],['F3','S2'],['F2','S1'],['F4','S1'],['F4','S3'],['F5','S1']]\n",
        "\n",
        "for f in ['F1', 'F2', 'F3', 'F4', 'F5']:\n",
        "    for s in ['S1', 'S2', 'S3']:\n",
        "        compute_conditional_probabilites(f,s)"
      ]
    },
    {
      "cell_type": "code",
      "source": [
        ""
      ],
      "metadata": {
        "id": "ShleOrYOB9T7"
      },
      "execution_count": null,
      "outputs": []
    },
    {
      "cell_type": "markdown",
      "metadata": {
        "id": "n4HS87QmB-lF"
      },
      "source": [
        "<h3> Q9: Given two sentances S1, S2</h3>\n",
        "You will be given two sentances S1, S2 your task is to find \n",
        "<pre>\n",
        "a. Number of common words between S1, S2\n",
        "b. Words in S1 but not in S2\n",
        "c. Words in S2 but not in S1\n",
        "</pre>\n",
        "\n",
        "Ex: \n",
        "<pre>\n",
        "S1= \"the first column F will contain only 5 uniques values\"\n",
        "S2= \"the second column S will contain only 3 uniques values\"\n",
        "Output:\n",
        "a. 7\n",
        "b. ['first','F','5']\n",
        "c. ['second','S','3']\n",
        "</pre>"
      ]
    },
    {
      "cell_type": "code",
      "execution_count": 241,
      "metadata": {
        "id": "Ez7hlHK0B-lG",
        "colab": {
          "base_uri": "https://localhost:8080/"
        },
        "outputId": "9338fe79-289a-4d96-8867-15bf48c84c38"
      },
      "outputs": [
        {
          "output_type": "stream",
          "name": "stdout",
          "text": [
            "a: 7\n",
            "b: {'first', '5', 'F'}\n",
            "c: {'3', 'second', 'S'}\n"
          ]
        }
      ],
      "source": [
        "# write your python code here\n",
        "# you can take the above example as sample input for your program to test\n",
        "# it should work for any general input try not to hard code for only given input strings\n",
        "\n",
        "# you can free to change all these codes/structure\n",
        "def string_features(S1, S2):\n",
        "    s1_words = set(S1.split())\n",
        "    s2_words = set(S2.split())\n",
        "    a = len(s1_words & s2_words)\n",
        "    \n",
        "    b = s1_words - s2_words\n",
        "    c = s2_words - s1_words\n",
        "    print('a:',a)\n",
        "    print('b:',b)\n",
        "    print('c:',c)\n",
        "\n",
        "S1= \"the first column F will contain only 5 uniques values\"\n",
        "S2= \"the second column S will contain only 3 uniques values\"\n",
        "string_features(S1, S2)\n",
        "#print(#the above values)"
      ]
    },
    {
      "cell_type": "markdown",
      "metadata": {
        "id": "XefXVEjCB-lI"
      },
      "source": [
        "<h3> Q10: Given two sentances S1, S2</h3>\n",
        "You will be given a list of lists, each sublist will be of length 2 i.e. [[x,y],[p,q],[l,m]..[r,s]]\n",
        "consider its like a martrix of n rows and two columns\n",
        "\n",
        "a. the first column Y will contain interger values <br>\n",
        "b. the second column $Y_{score}$ will be having float values <br>\n",
        "Your task is to find the value of $f(Y,Y_{score}) = -1*\\frac{1}{n}\\Sigma_{for each Y,Y_{score} pair}(Ylog10(Y_{score})+(1-Y)log10(1-Y_{score}))$ here n is the number of rows in the matrix\n",
        "<pre>\n",
        "Ex:\n",
        "[[1, 0.4], [0, 0.5], [0, 0.9], [0, 0.3], [0, 0.6], [1, 0.1], [1, 0.9], [1, 0.8]]\n",
        "output:\n",
        "0.4243099\n",
        "</pre>\n",
        "$\\frac{-1}{8}\\cdot((1\\cdot log_{10}(0.4)+0\\cdot log_{10}(0.6))+(0\\cdot log_{10}(0.5)+1\\cdot log_{10}(0.5)) + ... + (1\\cdot log_{10}(0.8)+0\\cdot log_{10}(0.2)) )$"
      ]
    },
    {
      "cell_type": "code",
      "execution_count": 242,
      "metadata": {
        "id": "N9zkagyNB-lJ",
        "colab": {
          "base_uri": "https://localhost:8080/"
        },
        "outputId": "bb83ce41-79d6-4ac5-dabc-01789d261be3"
      },
      "outputs": [
        {
          "output_type": "stream",
          "name": "stdout",
          "text": [
            "0.42430993457031635\n"
          ]
        }
      ],
      "source": [
        "# write your python code here\n",
        "# you can take the above example as sample input for your program to test\n",
        "# it should work for any general input try not to hard code for only given input strings\n",
        "from math import log\n",
        "\n",
        "# you can free to change all these codes/structure\n",
        "def compute_log_loss(A):\n",
        "    loss= 0\n",
        "    for i in A:\n",
        "      loss += i[0]* log(i[1],10) + (1-i[0])*log(1-i[1],10)          #calculating loss\n",
        "      log_loss= -1 * (loss/len(A))                                  \n",
        "    return log_loss\n",
        "\n",
        "A = [[1, 0.4], [0, 0.5], [0, 0.9], [0, 0.3], [0, 0.6], [1, 0.1], [1, 0.9], [1, 0.8]]\n",
        "loss = compute_log_loss(A)\n",
        "print(loss)"
      ]
    }
  ],
  "metadata": {
    "colab": {
      "collapsed_sections": [],
      "name": "Python Assignment(mandatory).ipynb",
      "provenance": []
    },
    "kernelspec": {
      "display_name": "Python 3",
      "language": "python",
      "name": "python3"
    },
    "language_info": {
      "codemirror_mode": {
        "name": "ipython",
        "version": 3
      },
      "file_extension": ".py",
      "mimetype": "text/x-python",
      "name": "python",
      "nbconvert_exporter": "python",
      "pygments_lexer": "ipython3",
      "version": "3.6.3"
    }
  },
  "nbformat": 4,
  "nbformat_minor": 0
}